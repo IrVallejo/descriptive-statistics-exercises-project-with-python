{
    "cells": [
        {
            "cell_type": "markdown",
            "id": "ac622319",
            "metadata": {},
            "source": [
                "# Descriptive statistics problems"
            ]
        },
        {
            "cell_type": "markdown",
            "id": "5e0ab0d5",
            "metadata": {},
            "source": [
                "### Exercise 1\n",
                "\n",
                "We will use NumPy to obtain information to describe statistically.\n",
                "\n",
                "- Generate an array of 100 elements following a normal distribution.\n",
                "- Generate an array of 100 elements following a chi-square distribution with 3 degrees of freedom.\n",
                "- Calculate the main metrics and statistical measures that best describe the two vectors."
            ]
        },
        {
            "cell_type": "code",
            "execution_count": 2,
            "id": "34720ab6",
            "metadata": {},
            "outputs": [
                {
                    "name": "stdout",
                    "output_type": "stream",
                    "text": [
                        "Métricas estadísticas para la distribución normal:\n",
                        "media: -0.1038\n",
                        "mediana: -0.1270\n",
                        "desviación estándar: 0.9036\n",
                        "varianza: 0.8165\n",
                        "mínimo: -2.6197\n",
                        "máximo: 1.8523\n",
                        "percentil 25: -0.6009\n",
                        "percentil 75: 0.4060\n",
                        "\n",
                        "Métricas estadísticas para la distribución chi-cuadrado:\n",
                        "media: 2.9381\n",
                        "mediana: 2.4636\n",
                        "desviación estándar: 2.4118\n",
                        "varianza: 5.8170\n",
                        "mínimo: 0.1325\n",
                        "máximo: 12.7246\n",
                        "percentil 25: 1.0917\n",
                        "percentil 75: 3.9826\n"
                    ]
                }
            ],
            "source": [
                "# TODO\n",
                "import numpy as np\n",
                "\n",
                "# Establecer semilla para reproducibilidad\n",
                "np.random.seed(42)\n",
                "\n",
                "# Generar un array de 100 elementos con una distribución normal\n",
                "normal_array = np.random.normal(loc=0, scale=1, size=100)\n",
                "\n",
                "# Generar un array de 100 elementos con una distribución chi-cuadrado con 3 grados de libertad\n",
                "chi_square_array = np.random.chisquare(df=3, size=100)\n",
                "\n",
                "# Calcular las métricas estadísticas para el array de distribución normal\n",
                "normal_stats = {\n",
                "    'media': np.mean(normal_array),\n",
                "    'mediana': np.median(normal_array),\n",
                "    'desviación estándar': np.std(normal_array),\n",
                "    'varianza': np.var(normal_array),\n",
                "    'mínimo': np.min(normal_array),\n",
                "    'máximo': np.max(normal_array),\n",
                "    'percentil 25': np.percentile(normal_array, 25),\n",
                "    'percentil 75': np.percentile(normal_array, 75)\n",
                "}\n",
                "\n",
                "# Calcular las métricas estadísticas para el array de distribución chi-cuadrado\n",
                "chi_square_stats = {\n",
                "    'media': np.mean(chi_square_array),\n",
                "    'mediana': np.median(chi_square_array),\n",
                "    'desviación estándar': np.std(chi_square_array),\n",
                "    'varianza': np.var(chi_square_array),\n",
                "    'mínimo': np.min(chi_square_array),\n",
                "    'máximo': np.max(chi_square_array),\n",
                "    'percentil 25': np.percentile(chi_square_array, 25),\n",
                "    'percentil 75': np.percentile(chi_square_array, 75)\n",
                "}\n",
                "\n",
                "# Imprimir los resultados\n",
                "print(\"Métricas estadísticas para la distribución normal:\")\n",
                "for key, value in normal_stats.items():\n",
                "    print(f\"{key}: {value:.4f}\")\n",
                "\n",
                "print(\"\\nMétricas estadísticas para la distribución chi-cuadrado:\")\n",
                "for key, value in chi_square_stats.items():\n",
                "    print(f\"{key}: {value:.4f}\")"
            ]
        },
        {
            "cell_type": "markdown",
            "id": "46c70c3d",
            "metadata": {},
            "source": [
                "### Exercise 2\n",
                "\n",
                "Write a Python program to calculate the standard deviation of the following data:\n",
                "\n",
                "```py\n",
                "data = [4, 2, 5, 8, 6]\n",
                "```"
            ]
        },
        {
            "cell_type": "code",
            "execution_count": 3,
            "id": "d590308e",
            "metadata": {},
            "outputs": [
                {
                    "name": "stdout",
                    "output_type": "stream",
                    "text": [
                        "The standard deviation of the data is: 2.0000\n"
                    ]
                }
            ],
            "source": [
                "# TODO\n",
                "# Data\n",
                "data = [4, 2, 5, 8, 6]\n",
                "\n",
                "# Calculate standard deviation\n",
                "std_dev = np.std(data)\n",
                "\n",
                "# Print the result\n",
                "print(f\"The standard deviation of the data is: {std_dev:.4f}\")"
            ]
        }
    ],
    "metadata": {
        "kernelspec": {
            "display_name": ".venv",
            "language": "python",
            "name": "python3"
        },
        "language_info": {
            "codemirror_mode": {
                "name": "ipython",
                "version": 3
            },
            "file_extension": ".py",
            "mimetype": "text/x-python",
            "name": "python",
            "nbconvert_exporter": "python",
            "pygments_lexer": "ipython3",
            "version": "3.11.4"
        }
    },
    "nbformat": 4,
    "nbformat_minor": 5
}
